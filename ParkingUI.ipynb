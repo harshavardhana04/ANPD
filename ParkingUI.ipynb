{
 "cells": [
  {
   "cell_type": "code",
   "execution_count": null,
   "id": "641ca358",
   "metadata": {},
   "outputs": [],
   "source": [
    "import pygame\n",
    "from pygame.locals import *\n",
    "\n",
    "pos={K_1:(120,100),K_2:(320,100),K_3:(540,100),K_4:(775,100),\n",
    "     K_5:(120,650),K_6:(320,650),K_7:(540,650),K_8:(775,650)}\n",
    "\n",
    "screen = pygame.display.set_mode((1024, 1024))\n",
    "pygame.display.set_caption(\"The Parking Lot.\")\n",
    "lot = pygame.image.load('images/Lot.png')\n",
    "car = pygame.transform.scale(pygame.image.load('images/car.png'),(120,265))\n",
    "\n",
    "taken = []\n",
    "running = True\n",
    "while running:\n",
    "      \n",
    "    for event in pygame.event.get():\n",
    "        if event.type == pygame.QUIT:\n",
    "            running=False\n",
    "            \n",
    "        if event.type == pygame.KEYDOWN:\n",
    "            if event.key in pos:\n",
    "                if event.key not in taken:\n",
    "                    taken.append(event.key)\n",
    "                else:\n",
    "                    taken.remove(event.key)\n",
    "    carlist=[(lot,(0,0))]                    \n",
    "    for key in taken:\n",
    "        carlist.append((car,pos[key]))\n",
    "        \n",
    "    screen.blits(carlist)\n",
    "    pygame.display.flip()\n",
    "    \n",
    "pygame.quit()\n",
    "#sys.exit()"
   ]
  }
 ],
 "metadata": {
  "kernelspec": {
   "display_name": "Python 3 (ipykernel)",
   "language": "python",
   "name": "python3"
  },
  "language_info": {
   "codemirror_mode": {
    "name": "ipython",
    "version": 3
   },
   "file_extension": ".py",
   "mimetype": "text/x-python",
   "name": "python",
   "nbconvert_exporter": "python",
   "pygments_lexer": "ipython3",
   "version": "3.10.6"
  }
 },
 "nbformat": 4,
 "nbformat_minor": 5
}
